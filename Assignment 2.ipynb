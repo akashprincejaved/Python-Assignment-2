{
 "cells": [
  {
   "cell_type": "code",
   "execution_count": 2,
   "metadata": {},
   "outputs": [
    {
     "name": "stdout",
     "output_type": "stream",
     "text": [
      "English 90\n",
      "Urdu 90\n",
      "Math 100\n",
      "Science 95\n",
      "Bio 98\n",
      "A+ Grade 94.6\n"
     ]
    }
   ],
   "source": [
    "#Task no. 1\n",
    "\n",
    "a=float(input(\"English \"))\n",
    "b=float(input(\"Urdu \"))\n",
    "c=float(input(\"Math \"))\n",
    "d=float(input(\"Science \"))\n",
    "e=float(input(\"Bio \"))\n",
    "avg=((a+b+c+d+e)/500)*100\n",
    "\n",
    "if(avg>=90):\n",
    "  print(\"A+ Grade\",avg)\n",
    "elif(avg>=80 and avg<90):\n",
    "  print(\"B Grade\",avg)\n",
    "elif(avg>=70 and avg<80):\n",
    "  print(\"C Grade\",avg)\n",
    "elif(avg>=60 and avg<70):\n",
    "  print(\"D Grade\",avg)\n",
    "elif(avg>=50 and avg<60):\n",
    "  print(\"E Grade\",avg)\n",
    "elif(avg<50):\n",
    "  print(\"Fail\")"
   ]
  },
  {
   "cell_type": "code",
   "execution_count": 3,
   "metadata": {},
   "outputs": [
    {
     "name": "stdout",
     "output_type": "stream",
     "text": [
      "Enter a number2\n",
      "This is an even number\n"
     ]
    }
   ],
   "source": [
    "#Task no. 2\n",
    "\n",
    "num = int(input(\"Enter a number\"))\n",
    "mod = num % 2\n",
    "if mod > 0:\n",
    "  print(\"This is an odd number\")\n",
    "else:\n",
    "  print(\"This is an even number\")"
   ]
  },
  {
   "cell_type": "code",
   "execution_count": 4,
   "metadata": {},
   "outputs": [
    {
     "name": "stdout",
     "output_type": "stream",
     "text": [
      "Enter a number1\n",
      "This is an odd number\n"
     ]
    }
   ],
   "source": [
    "#Task no. 2\n",
    "\n",
    "num = int(input(\"Enter a number\"))\n",
    "mod = num % 2\n",
    "if mod > 0:\n",
    "  print(\"This is an odd number\")\n",
    "else:\n",
    "  print(\"This is an even number\")"
   ]
  },
  {
   "cell_type": "code",
   "execution_count": 5,
   "metadata": {},
   "outputs": [
    {
     "name": "stdout",
     "output_type": "stream",
     "text": [
      "The length of list is:  11\n"
     ]
    }
   ],
   "source": [
    "#Task no. 3\n",
    "\n",
    "a = len([1,1,2,3,5,8,13,21,34,55,89])\n",
    "print(\"The length of list is: \", a)"
   ]
  },
  {
   "cell_type": "code",
   "execution_count": null,
   "metadata": {},
   "outputs": [],
   "source": []
  }
 ],
 "metadata": {
  "kernelspec": {
   "display_name": "Python 3",
   "language": "python",
   "name": "python3"
  },
  "language_info": {
   "codemirror_mode": {
    "name": "ipython",
    "version": 3
   },
   "file_extension": ".py",
   "mimetype": "text/x-python",
   "name": "python",
   "nbconvert_exporter": "python",
   "pygments_lexer": "ipython3",
   "version": "3.7.4"
  }
 },
 "nbformat": 4,
 "nbformat_minor": 2
}
